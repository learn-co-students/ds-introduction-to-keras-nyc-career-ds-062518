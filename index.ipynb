{
 "cells": [
  {
   "cell_type": "markdown",
   "metadata": {},
   "source": [
    "# Introduction to Keras Lab\n",
    "\n",
    "## Objective\n",
    "\n",
    "In this lab, we'll learn how to use Keras-- an industry standard tool to build for quickly prototyping and training Deep Neural Networks.\n",
    "\n",
    "## Introduction \n",
    "\n",
    "In the last lab, we learned how to build a small neural network from scratch, with only numpy to help.  While this was illuminating to help us learn how Artificial Neural Networks actually work, the construction of it was a bit too tedious for real-world data scientists to do on the job. Because of this, many great frameworks and libraries have been created to make it a simple task to build a neural network--Keras, and TensorFlow!\n",
    "<table>\n",
    "<tr>\n",
    "    <td><a href=\"https://www.tensorflow.org\"><img src='tensorflow-logo.png' height=100% width=100%></a></td>\n",
    "    <td><a href=\"https://keras.io/\"><img src='keras-logo.png' height=75% width=75%></a></td>\n",
    "</tr>\n",
    "</table>\n",
    "    \n",
    "## A Bit of Background\n",
    "\n",
    "If we're going to talk about Keras, we'll first need to talk about TensorFlow.  Keras and TensorFlow are both created and maintained by Google.  TensorFlow is a framework for building **_Static Computational Graphs_**, with a special emphasis on Deep Learning.  It provides much of the same functionality of numpy, but with a ton of common functionality needed for neural networks already created. Since working with TensorFlow can be a bit involved, Keras was invented as a high-level API for building Neural Networks with TensorFlow as a backend.  When you're using Keras, you're still using TensorFlow--you just don't have to write any TensorFlow code directly.\n",
    "\n",
    "The biggest benefit of using TensorFlow or Keras is that they provide [Auto Differentiation](https://en.wikipedia.org/wiki/Automatic_differentiation) by default, which means that we don't actually have to handle Back Propagation, or caching any of the intermediate values during our forward propagation step so that we can use them later in back prop.  This is just one of the many reasons you'll love working with these tools!\n",
    "\n",
    "## Getting Started\n",
    "\n",
    "We'll start by building a small MLP with Keras.  Run the cell below to import everything we'll need for this lab."
   ]
  },
  {
   "cell_type": "code",
   "execution_count": 46,
   "metadata": {},
   "outputs": [],
   "source": [
    "import keras\n",
    "from keras.layers import Dense\n",
    "from keras.models import Sequential\n",
    "from keras.datasets import mnist\n",
    "import matplotlib.pyplot as plt\n",
    "%matplotlib inline"
   ]
  },
  {
   "cell_type": "markdown",
   "metadata": {},
   "source": [
    "## The Data Set\n",
    "\n",
    "In this lab, we'll be working with the MNIST dataset.  This dataset is a collection of handwritten digits, 0 through 9.  Each image is black and white, 28 pixel high, 28 pixels wide, and comes with a label.  From a historical perspective, this dataset has incredible significance to the Deep Learning community.  These days, it is treated as the \"Hello, World!\" of Deep Learning.  \n",
    "\n",
    "We'll have to do some basic data preparation in order to load in our data and get it in a shape usable by a Neural Network. \n",
    "\n",
    "In the cell below, call `mnist.load_data()` to store our data in the tuples we've laid out. You'll note that it's already been split into training and testing sets. \n",
    "\n",
    "**_NOTE:_** If this is your time ever running this on your computer, Keras will have to download the images from the internet.  This is a large dataset, and the download could take a while.  Be patient!"
   ]
  },
  {
   "cell_type": "code",
   "execution_count": 47,
   "metadata": {},
   "outputs": [],
   "source": [
    "(X_train, y_train), (X_test, y_test) = mnist.load_data()"
   ]
  },
  {
   "cell_type": "markdown",
   "metadata": {},
   "source": [
    "Let's inspect a sample image to see what one of the images looks like.  \n",
    "\n",
    "In the cell below, call `plt.imshow()` and pass in the first item from `X_train`."
   ]
  },
  {
   "cell_type": "code",
   "execution_count": 48,
   "metadata": {},
   "outputs": [
    {
     "name": "stdout",
     "output_type": "stream",
     "text": [
      "Label: 5\n"
     ]
    },
    {
     "data": {
      "image/png": "[encoded data removed]",
      "text/plain": [
       "<Figure size 432x288 with 1 Axes>"
      ]
     },
     "metadata": {},
     "output_type": "display_data"
    }
   ],
   "source": [
    "plt.imshow(X_train[0])\n",
    "\n",
    "print(\"Label: {}\".format(y_train[0]))"
   ]
  },
  {
   "cell_type": "markdown",
   "metadata": {},
   "source": [
    "a 5! A somewhat sloppy 5, but still a 5.  After a few short lines of code, we'll have built and trained a neural network that is able to recognize this as a 5.  Let's take a look at the way raw data for the first sample. \n",
    "\n",
    "In the cell below, access `X_train[0]` to see what it looks like."
   ]
  },
  {
   "cell_type": "code",
   "execution_count": 49,
   "metadata": {},
   "outputs": [
    {
     "data": {
      "text/plain": [
       "array([[  0,   0,   0,   0,   0,   0,   0,   0,   0,   0,   0,   0,   0,\n",
       "          0,   0,   0,   0,   0,   0,   0,   0,   0,   0,   0,   0,   0,\n",
       "          0,   0],\n",
       "       [  0,   0,   0,   0,   0,   0,   0,   0,   0,   0,   0,   0,   0,\n",
       "          0,   0,   0,   0,   0,   0,   0,   0,   0,   0,   0,   0,   0,\n",
       "          0,   0],\n",
       "       [  0,   0,   0,   0,   0,   0,   0,   0,   0,   0,   0,   0,   0,\n",
       "          0,   0,   0,   0,   0,   0,   0,   0,   0,   0,   0,   0,   0,\n",
       "          0,   0],\n",
       "       [  0,   0,   0,   0,   0,   0,   0,   0,   0,   0,   0,   0,   0,\n",
       "          0,   0,   0,   0,   0,   0,   0,   0,   0,   0,   0,   0,   0,\n",
       "          0,   0],\n",
       "       [  0,   0,   0,   0,   0,   0,   0,   0,   0,   0,   0,   0,   0,\n",
       "          0,   0,   0,   0,   0,   0,   0,   0,   0,   0,   0,   0,   0,\n",
       "          0,   0],\n",
       "       [  0,   0,   0,   0,   0,   0,   0,   0,   0,   0,   0,   0,   3,\n",
       "         18,  18,  18, 126, 136, 175,  26, 166, 255, 247, 127,   0,   0,\n",
       "          0,   0],\n",
       "       [  0,   0,   0,   0,   0,   0,   0,   0,  30,  36,  94, 154, 170,\n",
       "        253, 253, 253, 253, 253, 225, 172, 253, 242, 195,  64,   0,   0,\n",
       "          0,   0],\n",
       "       [  0,   0,   0,   0,   0,   0,   0,  49, 238, 253, 253, 253, 253,\n",
       "        253, 253, 253, 253, 251,  93,  82,  82,  56,  39,   0,   0,   0,\n",
       "          0,   0],\n",
       "       [  0,   0,   0,   0,   0,   0,   0,  18, 219, 253, 253, 253, 253,\n",
       "        253, 198, 182, 247, 241,   0,   0,   0,   0,   0,   0,   0,   0,\n",
       "          0,   0],\n",
       "       [  0,   0,   0,   0,   0,   0,   0,   0,  80, 156, 107, 253, 253,\n",
       "        205,  11,   0,  43, 154,   0,   0,   0,   0,   0,   0,   0,   0,\n",
       "          0,   0],\n",
       "       [  0,   0,   0,   0,   0,   0,   0,   0,   0,  14,   1, 154, 253,\n",
       "         90,   0,   0,   0,   0,   0,   0,   0,   0,   0,   0,   0,   0,\n",
       "          0,   0],\n",
       "       [  0,   0,   0,   0,   0,   0,   0,   0,   0,   0,   0, 139, 253,\n",
       "        190,   2,   0,   0,   0,   0,   0,   0,   0,   0,   0,   0,   0,\n",
       "          0,   0],\n",
       "       [  0,   0,   0,   0,   0,   0,   0,   0,   0,   0,   0,  11, 190,\n",
       "        253,  70,   0,   0,   0,   0,   0,   0,   0,   0,   0,   0,   0,\n",
       "          0,   0],\n",
       "       [  0,   0,   0,   0,   0,   0,   0,   0,   0,   0,   0,   0,  35,\n",
       "        241, 225, 160, 108,   1,   0,   0,   0,   0,   0,   0,   0,   0,\n",
       "          0,   0],\n",
       "       [  0,   0,   0,   0,   0,   0,   0,   0,   0,   0,   0,   0,   0,\n",
       "         81, 240, 253, 253, 119,  25,   0,   0,   0,   0,   0,   0,   0,\n",
       "          0,   0],\n",
       "       [  0,   0,   0,   0,   0,   0,   0,   0,   0,   0,   0,   0,   0,\n",
       "          0,  45, 186, 253, 253, 150,  27,   0,   0,   0,   0,   0,   0,\n",
       "          0,   0],\n",
       "       [  0,   0,   0,   0,   0,   0,   0,   0,   0,   0,   0,   0,   0,\n",
       "          0,   0,  16,  93, 252, 253, 187,   0,   0,   0,   0,   0,   0,\n",
       "          0,   0],\n",
       "       [  0,   0,   0,   0,   0,   0,   0,   0,   0,   0,   0,   0,   0,\n",
       "          0,   0,   0,   0, 249, 253, 249,  64,   0,   0,   0,   0,   0,\n",
       "          0,   0],\n",
       "       [  0,   0,   0,   0,   0,   0,   0,   0,   0,   0,   0,   0,   0,\n",
       "          0,  46, 130, 183, 253, 253, 207,   2,   0,   0,   0,   0,   0,\n",
       "          0,   0],\n",
       "       [  0,   0,   0,   0,   0,   0,   0,   0,   0,   0,   0,   0,  39,\n",
       "        148, 229, 253, 253, 253, 250, 182,   0,   0,   0,   0,   0,   0,\n",
       "          0,   0],\n",
       "       [  0,   0,   0,   0,   0,   0,   0,   0,   0,   0,  24, 114, 221,\n",
       "        253, 253, 253, 253, 201,  78,   0,   0,   0,   0,   0,   0,   0,\n",
       "          0,   0],\n",
       "       [  0,   0,   0,   0,   0,   0,   0,   0,  23,  66, 213, 253, 253,\n",
       "        253, 253, 198,  81,   2,   0,   0,   0,   0,   0,   0,   0,   0,\n",
       "          0,   0],\n",
       "       [  0,   0,   0,   0,   0,   0,  18, 171, 219, 253, 253, 253, 253,\n",
       "        195,  80,   9,   0,   0,   0,   0,   0,   0,   0,   0,   0,   0,\n",
       "          0,   0],\n",
       "       [  0,   0,   0,   0,  55, 172, 226, 253, 253, 253, 253, 244, 133,\n",
       "         11,   0,   0,   0,   0,   0,   0,   0,   0,   0,   0,   0,   0,\n",
       "          0,   0],\n",
       "       [  0,   0,   0,   0, 136, 253, 253, 253, 212, 135, 132,  16,   0,\n",
       "          0,   0,   0,   0,   0,   0,   0,   0,   0,   0,   0,   0,   0,\n",
       "          0,   0],\n",
       "       [  0,   0,   0,   0,   0,   0,   0,   0,   0,   0,   0,   0,   0,\n",
       "          0,   0,   0,   0,   0,   0,   0,   0,   0,   0,   0,   0,   0,\n",
       "          0,   0],\n",
       "       [  0,   0,   0,   0,   0,   0,   0,   0,   0,   0,   0,   0,   0,\n",
       "          0,   0,   0,   0,   0,   0,   0,   0,   0,   0,   0,   0,   0,\n",
       "          0,   0],\n",
       "       [  0,   0,   0,   0,   0,   0,   0,   0,   0,   0,   0,   0,   0,\n",
       "          0,   0,   0,   0,   0,   0,   0,   0,   0,   0,   0,   0,   0,\n",
       "          0,   0]], dtype=uint8)"
      ]
     },
     "execution_count": 49,
     "metadata": {},
     "output_type": "execute_result"
    }
   ],
   "source": [
    "X_train[0]"
   ]
  },
  {
   "cell_type": "markdown",
   "metadata": {},
   "source": [
    "Our image is a 28x28 matrix.  In plain English, that means that it's an array containing 28 arrays, with each inner array containing 28 integer values between 0 and 255.  \n",
    "\n",
    "In order for us to feed this into a neural network, we'll need to reshape this from a matrix into a vector.  This is a basic step needed for most image preparation (except when we're building a Convolutional Neural Network--more on that in a later lab!).  \n",
    "\n",
    "In the cell below, we'll reshape `X_train` and `X_test` using their built in `.reshape()` methods. \n",
    "\n",
    "`X_train` contains 60,000 samples of shape `(28,28)`--so we'll reshape it to `(60000, 784)`.  We'll also method chain to cast the data inside of it from type `int8` to `float32`.  \n",
    "\n",
    "`X_test` contains only 10,000 samples, so we'll reshape that to `(10000, 784)`.  We'll also cast this to type `float32`.  "
   ]
  },
  {
   "cell_type": "code",
   "execution_count": 50,
   "metadata": {},
   "outputs": [],
   "source": [
    "X_train = X_train.reshape(60000,784).astype('float32')\n",
    "X_test = X_test.reshape(10000,784).astype('float32')"
   ]
  },
  {
   "cell_type": "markdown",
   "metadata": {},
   "source": [
    "While we're preprocessing our data, it's also a good idea to normalize it.  Normally, this would involve subtracting the mean and dividing by the standard deviation for each column, or using a `StandardScaler()` object from sklean.  However, since we're working with image data, we can use a quick hack and just divide every value by 255. \n",
    "\n",
    "In the cell below, normalize the data in `X_train` and `X_test` by dividing each by 255."
   ]
  },
  {
   "cell_type": "code",
   "execution_count": 51,
   "metadata": {},
   "outputs": [],
   "source": [
    "X_train /= 255\n",
    "X_test /= 255"
   ]
  },
  {
   "cell_type": "markdown",
   "metadata": {},
   "source": [
    "We've successfully pre-processed our data, but we still need to deal with our labels, which are inside of `y_train` and `y_test`.  This is much easier--we need to change the data from its current categorical form to a one-hot encoded format.  Keras makes this easy by providing a `to_categorical()` function inside of its `utils` module.\n",
    "\n",
    "In the cell below, call `keras.utils.to_categorical()` and pass in the variable containing the labels to be reshaped as the first parameter.  For the second parameter, pass in the number of categories the data contains--in this case, `10`. "
   ]
  },
  {
   "cell_type": "code",
   "execution_count": 52,
   "metadata": {},
   "outputs": [],
   "source": [
    "y_train = keras.utils.to_categorical(y_train, 10)\n",
    "y_test = keras.utils.to_categorical(y_test, 10)"
   ]
  },
  {
   "cell_type": "markdown",
   "metadata": {},
   "source": [
    "Great! We've now successfully preprocessed our data so that it's ready for use in a neural network!\n",
    "\n",
    "## Building a Neural Network with Keras\n",
    "\n",
    "Let's start by building our neural network. This means we need to create a `Sequential()` object.  This is an empty neural network that hasn't had any layers added to it yet.  \n",
    "\n",
    "Our workflow in Keras will consist of of the following:\n",
    "\n",
    "* Create a `Sequential` object\n",
    "* Add the layers we want to our `Sequential` object. When defining the first hidden layer, we'll also define our input layer.  \n",
    "* Compile our model\n",
    "* Fit our model\n",
    "* Examine the results!\n",
    "\n",
    "Let's get started! In the cell below, create a `Sequential()` object."
   ]
  },
  {
   "cell_type": "code",
   "execution_count": 9,
   "metadata": {},
   "outputs": [],
   "source": [
    "model = Sequential()"
   ]
  },
  {
   "cell_type": "markdown",
   "metadata": {},
   "source": [
    "Now, we can add layers to our model by passing them in to the model's `.add()` method.  There are a ton of different kinds of layers we can add to our model, but for this lab we'll keep it simple and only use a single `Dense()` layer. \n",
    "\n",
    "\n",
    "\n",
    "There are several parameters we'll need to pass in to the `Dense()` layer we're creating at each step, to define exactly how we want our Dense layer to be shaped.  We'll need to tell the first layer the following things:\n",
    "\n",
    "* The number of neurons in the layer\n",
    "* The activation function of the layer (although this can also be added using `model.add()`, it's easier to just pass it in as a keyword parameter when creating the `Dense` layer)\n",
    "* If the layer we're creating is the first hidden layer, we'll also need to tell it the shape of the input layer.  In this case, we'll do that by passing in the keyword parameter `input_shape=(784,)`.\n",
    "\n",
    "In the cell below:\n",
    "\n",
    "* Call `model.add()` and pass in a `Dense` layer with `25` neurons.  Also set the activation to `\"sigmoid\"`, and the input shape to `(784,)`\n",
    "* Call `model.add()` again to create out output layer.  This time, pass in a `Dense` layer with `10` neurons (one for each possible class that it can predict).  This time, set the activation to `\"softmax\"`. "
   ]
  },
  {
   "cell_type": "code",
   "execution_count": 10,
   "metadata": {},
   "outputs": [],
   "source": [
    "model.add(Dense(25, activation='sigmoid',input_shape=(784,)))\n",
    "model.add(Dense(10, activation='softmax'))"
   ]
  },
  {
   "cell_type": "markdown",
   "metadata": {},
   "source": [
    "Great! With 2 lines of code, we've now created a complex neural network capable of reading human handwriting!\n",
    "\n",
    "Let's look at the structure of the model we've just created. \n",
    "\n",
    "In the cell below, call `model.summary()`."
   ]
  },
  {
   "cell_type": "code",
   "execution_count": 11,
   "metadata": {},
   "outputs": [
    {
     "name": "stdout",
     "output_type": "stream",
     "text": [
      "_________________________________________________________________\n",
      "Layer (type)                 Output Shape              Param #   \n",
      "=================================================================\n",
      "dense_1 (Dense)              (None, 25)                19625     \n",
      "_________________________________________________________________\n",
      "dense_2 (Dense)              (None, 10)                260       \n",
      "=================================================================\n",
      "Total params: 19,885\n",
      "Trainable params: 19,885\n",
      "Non-trainable params: 0\n",
      "_________________________________________________________________\n"
     ]
    }
   ],
   "source": [
    "model.summary()"
   ]
  },
  {
   "cell_type": "markdown",
   "metadata": {},
   "source": [
    "Note that the summary of our model doesn't show the input layer by default. This is a common convention in Deep Learning, since the input layer doesn't contain any **_trainable parameters_**, meaning that it doesn't really do anything.  \n",
    "\n",
    "Also note the number of trainable parameters in our network--19,885! Although this may seem like a lot, its still quite small compared to typical Artificial Neural Networks used in Deep Learning.  \n",
    "\n",
    "Now, we need to compile our model.  This is a step unique to Keras, where the neural network we've created is actually created as a static computational graph in TensorFlow.  During this step, we'll need to pass in certain some information. Specifically:\n",
    "\n",
    "* We'll need to specify the loss.  Since this is a multi-categorical problem, we'll set the `loss` to `\"categorical_crossentropy\"`.\n",
    "* We'll also need to tell the model what type of optimizer we'll use.  In this case, set the `optimzer` to `\"SGD\"`, which is short for **_Stochastic Gradient Descent_**.\n",
    "* Finally, we'll need to tell the model what metrics we want back.  In this case, we'll pass in `[\"accuracy\"]` to the `metrics` keyword argument."
   ]
  },
  {
   "cell_type": "code",
   "execution_count": 12,
   "metadata": {},
   "outputs": [],
   "source": [
    "model.compile(loss='categorical_crossentropy',optimizer='SGD',metrics=['accuracy'])"
   ]
  },
  {
   "cell_type": "markdown",
   "metadata": {},
   "source": [
    "Now, the fun part--we can actually fit our model, and see how well it does! \n",
    "\n",
    "Just like the last step, there are multiple parameters we'll need to pass in, such as:\n",
    "\n",
    "* `X_train` and `y_train`\n",
    "* a `batch_size` of `32`\n",
    "* The number of `epochs`, which we'll set to `10`.\n",
    "* Set `verbose` to `1`, so that we'll get messages as the model trains. \n",
    "* We'll also pass in `validation_data` to the tuple`(X_test, y_test)`.  With this, the model will compute the accuracy on our validation set at the end of each epoch.  "
   ]
  },
  {
   "cell_type": "code",
   "execution_count": 13,
   "metadata": {},
   "outputs": [
    {
     "name": "stdout",
     "output_type": "stream",
     "text": [
      "Train on 60000 samples, validate on 10000 samples\n",
      "Epoch 1/10\n",
      "60000/60000 [==============================] - 4s 71us/step - loss: 1.6364 - acc: 0.6496 - val_loss: 1.1138 - val_acc: 0.8036\n",
      "Epoch 2/10\n",
      "60000/60000 [==============================] - 3s 52us/step - loss: 0.9027 - acc: 0.8240 - val_loss: 0.7200 - val_acc: 0.8580\n",
      "Epoch 3/10\n",
      "60000/60000 [==============================] - 3s 51us/step - loss: 0.6506 - acc: 0.8591 - val_loss: 0.5616 - val_acc: 0.8779\n",
      "Epoch 4/10\n",
      "60000/60000 [==============================] - 5s 91us/step - loss: 0.5358 - acc: 0.8753 - val_loss: 0.4796 - val_acc: 0.8883\n",
      "Epoch 5/10\n",
      "60000/60000 [==============================] - 3s 52us/step - loss: 0.4711 - acc: 0.8847 - val_loss: 0.4301 - val_acc: 0.8934\n",
      "Epoch 6/10\n",
      "60000/60000 [==============================] - 3s 48us/step - loss: 0.4294 - acc: 0.8911 - val_loss: 0.3972 - val_acc: 0.8994\n",
      "Epoch 7/10\n",
      "60000/60000 [==============================] - 3s 48us/step - loss: 0.4002 - acc: 0.8965 - val_loss: 0.3736 - val_acc: 0.9044\n",
      "Epoch 8/10\n",
      "60000/60000 [==============================] - 4s 68us/step - loss: 0.3786 - acc: 0.9004 - val_loss: 0.3551 - val_acc: 0.9080\n",
      "Epoch 9/10\n",
      "60000/60000 [==============================] - 5s 83us/step - loss: 0.3616 - acc: 0.9035 - val_loss: 0.3409 - val_acc: 0.9104\n",
      "Epoch 10/10\n",
      "60000/60000 [==============================] - 4s 71us/step - loss: 0.3477 - acc: 0.9061 - val_loss: 0.3286 - val_acc: 0.9126\n"
     ]
    }
   ],
   "source": [
    "model = model.fit(X_train, y_train, batch_size=32, epochs=10, verbose=1, validation_data=(X_test,y_test))"
   ]
  },
  {
   "cell_type": "markdown",
   "metadata": {},
   "source": [
    "Validation accuracy of 91%--that's pretty good!\n",
    "\n",
    "\n",
    "## Visualizing our Results\n",
    "\n",
    "Calling `model.fit()` in Keras has the added benefit of returning a `History` object that contains all the statistics we saw above, that were printed out above live during the training.  It's a good habit to visualize our loss and accuracy, as well as our validation loss and accuracy.  \n",
    "\n",
    "In the cell below, examine `model.history` to see what it contains."
   ]
  },
  {
   "cell_type": "code",
   "execution_count": 14,
   "metadata": {},
   "outputs": [
    {
     "data": {
      "text/plain": [
       "{'val_loss': [1.1137939891815185,\n",
       "  0.7200125643730163,\n",
       "  0.5615678686618805,\n",
       "  0.47962864046096804,\n",
       "  0.4300933146476746,\n",
       "  0.3972168607234955,\n",
       "  0.37363135253190993,\n",
       "  0.3550734136939049,\n",
       "  0.3409106253027916,\n",
       "  0.3286383350610733],\n",
       " 'val_acc': [0.8036,\n",
       "  0.858,\n",
       "  0.8779,\n",
       "  0.8883,\n",
       "  0.8934,\n",
       "  0.8994,\n",
       "  0.9044,\n",
       "  0.908,\n",
       "  0.9104,\n",
       "  0.9126],\n",
       " 'loss': [1.636449344221751,\n",
       "  0.9026930895169576,\n",
       "  0.6506341237227122,\n",
       "  0.5358077370325725,\n",
       "  0.4711020280679067,\n",
       "  0.42937514612674715,\n",
       "  0.4002464494625727,\n",
       "  0.3785906922141711,\n",
       "  0.3615728288690249,\n",
       "  0.34767847973505656],\n",
       " 'acc': [0.6495666666666666,\n",
       "  0.8239666666666666,\n",
       "  0.8591166666666666,\n",
       "  0.8753333333333333,\n",
       "  0.8847166666666667,\n",
       "  0.8911333333333333,\n",
       "  0.8964666666666666,\n",
       "  0.9004166666666666,\n",
       "  0.9035166666666666,\n",
       "  0.9061166666666667]}"
      ]
     },
     "execution_count": 14,
     "metadata": {},
     "output_type": "execute_result"
    }
   ],
   "source": [
    "model.history"
   ]
  },
  {
   "cell_type": "markdown",
   "metadata": {},
   "source": [
    "Great! It's just basic python dictionary with the following keys:\n",
    "\n",
    "* `val_loss`\n",
    "* `val_acc`\n",
    "* `loss`\n",
    "* `acc`\n",
    "\n",
    "Let's plot our Accuracy and Validation Accuracy on the same plot, so that we check if the model is overfitting at all. \n",
    "\n",
    "In the cell below, create a visualization using Matplotlib, and plot `val_acc` and `acc`."
   ]
  },
  {
   "cell_type": "code",
   "execution_count": 24,
   "metadata": {},
   "outputs": [
    {
     "data": {
      "image/png": "[encoded data removed]",
      "text/plain": [
       "<Figure size 432x288 with 1 Axes>"
      ]
     },
     "metadata": {},
     "output_type": "display_data"
    }
   ],
   "source": [
    "val_acc = model.history['val_acc']\n",
    "acc = model.history['acc']\n",
    "\n",
    "epochs = list(range(1,11))\n",
    "plt.plot(epochs,val_acc)\n",
    "plt.plot(epochs,acc)\n",
    "\n",
    "plt.title(\"Model Accuracy by Epoch\")\n",
    "plt.xlabel(\"Epoch\")\n",
    "plt.ylabel(\"Accuracy (%)\")\n",
    "plt.legend([\"val_acc\", \"acc\"], loc=4)\n",
    "plt.show()"
   ]
  },
  {
   "cell_type": "markdown",
   "metadata": {},
   "source": [
    "**_Question:_** Do you detect any overfitting or underfitting in the model? How can you tell? Explain your answer.\n",
    "\n",
    "Write your answer below this line:\n",
    "______________________________________________________________________________________________________________________\n",
    "\n",
    "The model seems to have a high overall validation accuracy score, which means the model is not underfit.  The training accuracy and testing accuracy are also very close, suggesting that the model has not yet begun to overfit the data.  However, this would likely happen if we drastically increased the size of the network, or continued training on the data for many more epochs."
   ]
  },
  {
   "cell_type": "markdown",
   "metadata": {},
   "source": [
    "## Building a Bigger Model\n",
    "\n",
    "Now that you've cut your teeth in Keras, let's build a bigger model! For the remainder of this notebook, your task it build your own neural network in Keras from start to finish.  You do not need to repeat the data preprocessing steps done at the beginning of this notebook, since that data is still available to us. \n",
    "\n",
    "In the cells below, your task is to:\n",
    "* Build and train a bigger model for classification on the MNIST dataset. \n",
    "* Visualize your results to check for overfitting and underfitting.\n",
    "\n",
    "When building your MLP below, consider the following choices you'll need to make:\n",
    "\n",
    "* How many layers will your model have?\n",
    "* How many neurons will each layer have?\n",
    "* What activation function will your model use?\n",
    "\n",
    "We'll explore these topics in depth in a later lab, but it never hurts to learn through experimentation. \n",
    "\n",
    "**_NOTE:_**  The larger your network, the longer the training will take.  Don't build something too big if you don't have access to GPU-backed training!"
   ]
  },
  {
   "cell_type": "code",
   "execution_count": 70,
   "metadata": {},
   "outputs": [],
   "source": [
    "model2 = Sequential()\n",
    "model2.add(Dense(150, activation='tanh', input_shape=(784,)))\n",
    "model2.add(Dense(50, activation='tanh'))\n",
    "model2.add(Dense(10, activation='softmax'))"
   ]
  },
  {
   "cell_type": "code",
   "execution_count": 71,
   "metadata": {},
   "outputs": [
    {
     "name": "stdout",
     "output_type": "stream",
     "text": [
      "_________________________________________________________________\n",
      "Layer (type)                 Output Shape              Param #   \n",
      "=================================================================\n",
      "dense_21 (Dense)             (None, 150)               117750    \n",
      "_________________________________________________________________\n",
      "dense_22 (Dense)             (None, 50)                7550      \n",
      "_________________________________________________________________\n",
      "dense_23 (Dense)             (None, 10)                510       \n",
      "=================================================================\n",
      "Total params: 125,810\n",
      "Trainable params: 125,810\n",
      "Non-trainable params: 0\n",
      "_________________________________________________________________\n"
     ]
    }
   ],
   "source": [
    "model2.summary()"
   ]
  },
  {
   "cell_type": "code",
   "execution_count": 79,
   "metadata": {
    "scrolled": false
   },
   "outputs": [
    {
     "name": "stdout",
     "output_type": "stream",
     "text": [
      "Train on 60000 samples, validate on 10000 samples\n",
      "Epoch 1/25\n",
      "60000/60000 [==============================] - 6s 102us/step - loss: 0.0865 - acc: 0.9757 - val_loss: 0.1018 - val_acc: 0.9689\n",
      "Epoch 2/25\n",
      "60000/60000 [==============================] - 6s 94us/step - loss: 0.0836 - acc: 0.9767 - val_loss: 0.1007 - val_acc: 0.9684\n",
      "Epoch 3/25\n",
      "60000/60000 [==============================] - 8s 127us/step - loss: 0.0809 - acc: 0.9776 - val_loss: 0.0973 - val_acc: 0.9698\n",
      "Epoch 4/25\n",
      "60000/60000 [==============================] - 8s 137us/step - loss: 0.0782 - acc: 0.9783 - val_loss: 0.0970 - val_acc: 0.9704\n",
      "Epoch 5/25\n",
      "60000/60000 [==============================] - 6s 103us/step - loss: 0.0756 - acc: 0.9791 - val_loss: 0.0963 - val_acc: 0.9701\n",
      "Epoch 6/25\n",
      "60000/60000 [==============================] - 7s 110us/step - loss: 0.0731 - acc: 0.9799 - val_loss: 0.0930 - val_acc: 0.9716\n",
      "Epoch 7/25\n",
      "60000/60000 [==============================] - 5s 81us/step - loss: 0.0710 - acc: 0.9807 - val_loss: 0.0915 - val_acc: 0.9716\n",
      "Epoch 8/25\n",
      "60000/60000 [==============================] - 6s 100us/step - loss: 0.0689 - acc: 0.9813 - val_loss: 0.0916 - val_acc: 0.9714\n",
      "Epoch 9/25\n",
      "60000/60000 [==============================] - 5s 77us/step - loss: 0.0668 - acc: 0.9814 - val_loss: 0.0882 - val_acc: 0.9721\n",
      "Epoch 10/25\n",
      "60000/60000 [==============================] - 4s 72us/step - loss: 0.0647 - acc: 0.9822 - val_loss: 0.0877 - val_acc: 0.9721\n",
      "Epoch 11/25\n",
      "60000/60000 [==============================] - 4s 74us/step - loss: 0.0628 - acc: 0.9828 - val_loss: 0.0870 - val_acc: 0.9723\n",
      "Epoch 12/25\n",
      "60000/60000 [==============================] - 4s 74us/step - loss: 0.0610 - acc: 0.9832 - val_loss: 0.0855 - val_acc: 0.9733\n",
      "Epoch 13/25\n",
      "60000/60000 [==============================] - 5s 89us/step - loss: 0.0593 - acc: 0.9838 - val_loss: 0.0837 - val_acc: 0.9741\n",
      "Epoch 14/25\n",
      "60000/60000 [==============================] - 6s 98us/step - loss: 0.0575 - acc: 0.9847 - val_loss: 0.0835 - val_acc: 0.9741\n",
      "Epoch 15/25\n",
      "60000/60000 [==============================] - 6s 100us/step - loss: 0.0560 - acc: 0.9850 - val_loss: 0.0830 - val_acc: 0.9744\n",
      "Epoch 16/25\n",
      "60000/60000 [==============================] - 5s 79us/step - loss: 0.0543 - acc: 0.9856 - val_loss: 0.0820 - val_acc: 0.9750\n",
      "Epoch 17/25\n",
      "60000/60000 [==============================] - 5s 76us/step - loss: 0.0529 - acc: 0.9860 - val_loss: 0.0813 - val_acc: 0.9745\n",
      "Epoch 18/25\n",
      "60000/60000 [==============================] - 4s 74us/step - loss: 0.0513 - acc: 0.9865 - val_loss: 0.0809 - val_acc: 0.9745\n",
      "Epoch 19/25\n",
      "60000/60000 [==============================] - 5s 76us/step - loss: 0.0500 - acc: 0.9869 - val_loss: 0.0804 - val_acc: 0.9755\n",
      "Epoch 20/25\n",
      "60000/60000 [==============================] - 5s 83us/step - loss: 0.0486 - acc: 0.9875 - val_loss: 0.0793 - val_acc: 0.9750\n",
      "Epoch 21/25\n",
      "60000/60000 [==============================] - 5s 78us/step - loss: 0.0473 - acc: 0.9875 - val_loss: 0.0784 - val_acc: 0.9747\n",
      "Epoch 22/25\n",
      "60000/60000 [==============================] - 4s 72us/step - loss: 0.0461 - acc: 0.9880 - val_loss: 0.0780 - val_acc: 0.9751\n",
      "Epoch 23/25\n",
      "60000/60000 [==============================] - 5s 75us/step - loss: 0.0447 - acc: 0.9885 - val_loss: 0.0774 - val_acc: 0.9756\n",
      "Epoch 24/25\n",
      "60000/60000 [==============================] - 4s 66us/step - loss: 0.0436 - acc: 0.9888 - val_loss: 0.0762 - val_acc: 0.9758\n",
      "Epoch 25/25\n",
      "60000/60000 [==============================] - 4s 66us/step - loss: 0.0424 - acc: 0.9891 - val_loss: 0.0771 - val_acc: 0.9756\n"
     ]
    }
   ],
   "source": [
    "model2.compile(loss='categorical_crossentropy', optimizer='SGD', metrics=['accuracy'])\n",
    "model2 = model2.fit(X_train, y_train, batch_size=42, epochs=25, verbose=1, validation_data=(X_test, y_test))"
   ]
  },
  {
   "cell_type": "code",
   "execution_count": 80,
   "metadata": {},
   "outputs": [
    {
     "data": {
      "image/png": "[encoded data removed]",
      "text/plain": [
       "<Figure size 432x288 with 1 Axes>"
      ]
     },
     "metadata": {},
     "output_type": "display_data"
    }
   ],
   "source": [
    "epochs_2 = list(range(1, 26))\n",
    "plt.figure()\n",
    "plt.plot(epochs_2, model2.history['val_acc'])\n",
    "plt.plot(epochs_2, model2.history['acc'])\n",
    "plt.title(\"Model Accuracy by Epoch\")\n",
    "plt.ylabel(\"Accuracy (%)\")\n",
    "plt.xlabel(\"Epoch\")\n",
    "plt.legend([\"val_acc\", \"acc\"], loc=4)\n",
    "plt.show()"
   ]
  },
  {
   "cell_type": "markdown",
   "metadata": {},
   "source": [
    "## Conclusion\n",
    "\n",
    "In this lab, we learned how to build a basic model in Keras, and gained some valuable experience with the general Deep Learning workflow. "
   ]
  }
 ],
 "metadata": {
  "kernelspec": {
   "display_name": "Python 3",
   "language": "python",
   "name": "python3"
  },
  "language_info": {
   "codemirror_mode": {
    "name": "ipython",
    "version": 3
   },
   "file_extension": ".py",
   "mimetype": "text/x-python",
   "name": "python",
   "nbconvert_exporter": "python",
   "pygments_lexer": "ipython3",
   "version": "3.6.5"
  }
 },
 "nbformat": 4,
 "nbformat_minor": 2
}
